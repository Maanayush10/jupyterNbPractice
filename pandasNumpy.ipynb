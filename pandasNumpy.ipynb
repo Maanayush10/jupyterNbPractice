{
 "cells": [
  {
   "cell_type": "code",
   "execution_count": 1,
   "id": "cfb60112",
   "metadata": {},
   "outputs": [],
   "source": [
    "import pandas as pd\n",
    "import numpy as np\n"
   ]
  },
  {
   "cell_type": "code",
   "execution_count": 2,
   "id": "47d1b268",
   "metadata": {},
   "outputs": [],
   "source": [
    "s= pd.Series([1,2,3,-4,-5])"
   ]
  },
  {
   "cell_type": "code",
   "execution_count": 3,
   "id": "2c68ed6f",
   "metadata": {},
   "outputs": [
    {
     "data": {
      "text/plain": [
       "0    1\n",
       "1    2\n",
       "2    3\n",
       "3   -4\n",
       "4   -5\n",
       "dtype: int64"
      ]
     },
     "execution_count": 3,
     "metadata": {},
     "output_type": "execute_result"
    }
   ],
   "source": [
    "s"
   ]
  },
  {
   "cell_type": "code",
   "execution_count": 10,
   "id": "ef588f7d",
   "metadata": {},
   "outputs": [
    {
     "data": {
      "text/plain": [
       "-5"
      ]
     },
     "execution_count": 10,
     "metadata": {},
     "output_type": "execute_result"
    }
   ],
   "source": [
    "s.sum()"
   ]
  },
  {
   "cell_type": "code",
   "execution_count": 11,
   "id": "733a04de",
   "metadata": {},
   "outputs": [],
   "source": [
    "data = [['Ayush', 100],['Saru', 1000], ['Maan', 90]]"
   ]
  },
  {
   "cell_type": "code",
   "execution_count": 13,
   "id": "434bae8e",
   "metadata": {},
   "outputs": [],
   "source": [
    "df= pd.DataFrame(data, columns=['Name', 'Marks'])"
   ]
  },
  {
   "cell_type": "code",
   "execution_count": 14,
   "id": "048223b1",
   "metadata": {},
   "outputs": [
    {
     "data": {
      "text/html": [
       "<div>\n",
       "<style scoped>\n",
       "    .dataframe tbody tr th:only-of-type {\n",
       "        vertical-align: middle;\n",
       "    }\n",
       "\n",
       "    .dataframe tbody tr th {\n",
       "        vertical-align: top;\n",
       "    }\n",
       "\n",
       "    .dataframe thead th {\n",
       "        text-align: right;\n",
       "    }\n",
       "</style>\n",
       "<table border=\"1\" class=\"dataframe\">\n",
       "  <thead>\n",
       "    <tr style=\"text-align: right;\">\n",
       "      <th></th>\n",
       "      <th>Name</th>\n",
       "      <th>Marks</th>\n",
       "    </tr>\n",
       "  </thead>\n",
       "  <tbody>\n",
       "    <tr>\n",
       "      <th>0</th>\n",
       "      <td>Ayush</td>\n",
       "      <td>100</td>\n",
       "    </tr>\n",
       "    <tr>\n",
       "      <th>1</th>\n",
       "      <td>Saru</td>\n",
       "      <td>1000</td>\n",
       "    </tr>\n",
       "    <tr>\n",
       "      <th>2</th>\n",
       "      <td>Maan</td>\n",
       "      <td>90</td>\n",
       "    </tr>\n",
       "  </tbody>\n",
       "</table>\n",
       "</div>"
      ],
      "text/plain": [
       "    Name  Marks\n",
       "0  Ayush    100\n",
       "1   Saru   1000\n",
       "2   Maan     90"
      ]
     },
     "execution_count": 14,
     "metadata": {},
     "output_type": "execute_result"
    }
   ],
   "source": [
    "df"
   ]
  },
  {
   "cell_type": "code",
   "execution_count": 20,
   "id": "2c0992ca",
   "metadata": {},
   "outputs": [],
   "source": [
    "df=pd.DataFrame(index=['First', 'Second', 'Third'])"
   ]
  },
  {
   "cell_type": "code",
   "execution_count": 22,
   "id": "23c9bdeb",
   "metadata": {},
   "outputs": [],
   "source": [
    "df= pd.DataFrame(data, columns=['Name', 'Marks'])\n"
   ]
  },
  {
   "cell_type": "code",
   "execution_count": 23,
   "id": "7d440f05",
   "metadata": {},
   "outputs": [
    {
     "data": {
      "text/html": [
       "<div>\n",
       "<style scoped>\n",
       "    .dataframe tbody tr th:only-of-type {\n",
       "        vertical-align: middle;\n",
       "    }\n",
       "\n",
       "    .dataframe tbody tr th {\n",
       "        vertical-align: top;\n",
       "    }\n",
       "\n",
       "    .dataframe thead th {\n",
       "        text-align: right;\n",
       "    }\n",
       "</style>\n",
       "<table border=\"1\" class=\"dataframe\">\n",
       "  <thead>\n",
       "    <tr style=\"text-align: right;\">\n",
       "      <th></th>\n",
       "      <th>Name</th>\n",
       "      <th>Marks</th>\n",
       "    </tr>\n",
       "  </thead>\n",
       "  <tbody>\n",
       "    <tr>\n",
       "      <th>0</th>\n",
       "      <td>Ayush</td>\n",
       "      <td>100</td>\n",
       "    </tr>\n",
       "    <tr>\n",
       "      <th>1</th>\n",
       "      <td>Saru</td>\n",
       "      <td>1000</td>\n",
       "    </tr>\n",
       "    <tr>\n",
       "      <th>2</th>\n",
       "      <td>Maan</td>\n",
       "      <td>90</td>\n",
       "    </tr>\n",
       "  </tbody>\n",
       "</table>\n",
       "</div>"
      ],
      "text/plain": [
       "    Name  Marks\n",
       "0  Ayush    100\n",
       "1   Saru   1000\n",
       "2   Maan     90"
      ]
     },
     "execution_count": 23,
     "metadata": {},
     "output_type": "execute_result"
    }
   ],
   "source": [
    "df\n"
   ]
  },
  {
   "cell_type": "code",
   "execution_count": 24,
   "id": "8728d841",
   "metadata": {},
   "outputs": [],
   "source": [
    "df.index= ['First','Second', 'Third']"
   ]
  },
  {
   "cell_type": "code",
   "execution_count": 25,
   "id": "a1bb7179",
   "metadata": {},
   "outputs": [
    {
     "data": {
      "text/html": [
       "<div>\n",
       "<style scoped>\n",
       "    .dataframe tbody tr th:only-of-type {\n",
       "        vertical-align: middle;\n",
       "    }\n",
       "\n",
       "    .dataframe tbody tr th {\n",
       "        vertical-align: top;\n",
       "    }\n",
       "\n",
       "    .dataframe thead th {\n",
       "        text-align: right;\n",
       "    }\n",
       "</style>\n",
       "<table border=\"1\" class=\"dataframe\">\n",
       "  <thead>\n",
       "    <tr style=\"text-align: right;\">\n",
       "      <th></th>\n",
       "      <th>Name</th>\n",
       "      <th>Marks</th>\n",
       "    </tr>\n",
       "  </thead>\n",
       "  <tbody>\n",
       "    <tr>\n",
       "      <th>First</th>\n",
       "      <td>Ayush</td>\n",
       "      <td>100</td>\n",
       "    </tr>\n",
       "    <tr>\n",
       "      <th>Second</th>\n",
       "      <td>Saru</td>\n",
       "      <td>1000</td>\n",
       "    </tr>\n",
       "    <tr>\n",
       "      <th>Third</th>\n",
       "      <td>Maan</td>\n",
       "      <td>90</td>\n",
       "    </tr>\n",
       "  </tbody>\n",
       "</table>\n",
       "</div>"
      ],
      "text/plain": [
       "         Name  Marks\n",
       "First   Ayush    100\n",
       "Second   Saru   1000\n",
       "Third    Maan     90"
      ]
     },
     "execution_count": 25,
     "metadata": {},
     "output_type": "execute_result"
    }
   ],
   "source": [
    "df"
   ]
  },
  {
   "cell_type": "code",
   "execution_count": 26,
   "id": "32c7e877",
   "metadata": {},
   "outputs": [],
   "source": [
    "dict1 ={\n",
    "    \"name\": ['Ayush', 'Maan' ,'Sarveshwari'],\n",
    "    \"age\":[10,20,10]\n",
    "}"
   ]
  },
  {
   "cell_type": "code",
   "execution_count": 27,
   "id": "e870b134",
   "metadata": {},
   "outputs": [],
   "source": [
    "df2=pd.DataFrame(dict1, index=['Person1', 'Person2', 'Person3'])"
   ]
  },
  {
   "cell_type": "code",
   "execution_count": 28,
   "id": "06e08e17",
   "metadata": {},
   "outputs": [
    {
     "data": {
      "text/html": [
       "<div>\n",
       "<style scoped>\n",
       "    .dataframe tbody tr th:only-of-type {\n",
       "        vertical-align: middle;\n",
       "    }\n",
       "\n",
       "    .dataframe tbody tr th {\n",
       "        vertical-align: top;\n",
       "    }\n",
       "\n",
       "    .dataframe thead th {\n",
       "        text-align: right;\n",
       "    }\n",
       "</style>\n",
       "<table border=\"1\" class=\"dataframe\">\n",
       "  <thead>\n",
       "    <tr style=\"text-align: right;\">\n",
       "      <th></th>\n",
       "      <th>name</th>\n",
       "      <th>age</th>\n",
       "    </tr>\n",
       "  </thead>\n",
       "  <tbody>\n",
       "    <tr>\n",
       "      <th>Person1</th>\n",
       "      <td>Ayush</td>\n",
       "      <td>10</td>\n",
       "    </tr>\n",
       "    <tr>\n",
       "      <th>Person2</th>\n",
       "      <td>Maan</td>\n",
       "      <td>20</td>\n",
       "    </tr>\n",
       "    <tr>\n",
       "      <th>Person3</th>\n",
       "      <td>Sarveshwari</td>\n",
       "      <td>10</td>\n",
       "    </tr>\n",
       "  </tbody>\n",
       "</table>\n",
       "</div>"
      ],
      "text/plain": [
       "                name  age\n",
       "Person1        Ayush   10\n",
       "Person2         Maan   20\n",
       "Person3  Sarveshwari   10"
      ]
     },
     "execution_count": 28,
     "metadata": {},
     "output_type": "execute_result"
    }
   ],
   "source": [
    "df2"
   ]
  },
  {
   "cell_type": "code",
   "execution_count": 29,
   "id": "f3ad3a61",
   "metadata": {},
   "outputs": [
    {
     "ename": "TypeError",
     "evalue": "Index(...) must be called with a collection of some kind, False was passed",
     "output_type": "error",
     "traceback": [
      "\u001b[0;31m---------------------------------------------------------------------------\u001b[0m",
      "\u001b[0;31mTypeError\u001b[0m                                 Traceback (most recent call last)",
      "Cell \u001b[0;32mIn[29], line 1\u001b[0m\n\u001b[0;32m----> 1\u001b[0m df3\u001b[38;5;241m=\u001b[39m\u001b[43mpd\u001b[49m\u001b[38;5;241;43m.\u001b[39;49m\u001b[43mDataFrame\u001b[49m\u001b[43m(\u001b[49m\u001b[43mdict1\u001b[49m\u001b[43m,\u001b[49m\u001b[43m \u001b[49m\u001b[43mindex\u001b[49m\u001b[38;5;241;43m=\u001b[39;49m\u001b[38;5;28;43;01mFalse\u001b[39;49;00m\u001b[43m)\u001b[49m\n",
      "File \u001b[0;32m~/.local/lib/python3.10/site-packages/pandas/core/frame.py:664\u001b[0m, in \u001b[0;36mDataFrame.__init__\u001b[0;34m(self, data, index, columns, dtype, copy)\u001b[0m\n\u001b[1;32m    658\u001b[0m     mgr \u001b[38;5;241m=\u001b[39m \u001b[38;5;28mself\u001b[39m\u001b[38;5;241m.\u001b[39m_init_mgr(\n\u001b[1;32m    659\u001b[0m         data, axes\u001b[38;5;241m=\u001b[39m{\u001b[38;5;124m\"\u001b[39m\u001b[38;5;124mindex\u001b[39m\u001b[38;5;124m\"\u001b[39m: index, \u001b[38;5;124m\"\u001b[39m\u001b[38;5;124mcolumns\u001b[39m\u001b[38;5;124m\"\u001b[39m: columns}, dtype\u001b[38;5;241m=\u001b[39mdtype, copy\u001b[38;5;241m=\u001b[39mcopy\n\u001b[1;32m    660\u001b[0m     )\n\u001b[1;32m    662\u001b[0m \u001b[38;5;28;01melif\u001b[39;00m \u001b[38;5;28misinstance\u001b[39m(data, \u001b[38;5;28mdict\u001b[39m):\n\u001b[1;32m    663\u001b[0m     \u001b[38;5;66;03m# GH#38939 de facto copy defaults to False only in non-dict cases\u001b[39;00m\n\u001b[0;32m--> 664\u001b[0m     mgr \u001b[38;5;241m=\u001b[39m \u001b[43mdict_to_mgr\u001b[49m\u001b[43m(\u001b[49m\u001b[43mdata\u001b[49m\u001b[43m,\u001b[49m\u001b[43m \u001b[49m\u001b[43mindex\u001b[49m\u001b[43m,\u001b[49m\u001b[43m \u001b[49m\u001b[43mcolumns\u001b[49m\u001b[43m,\u001b[49m\u001b[43m \u001b[49m\u001b[43mdtype\u001b[49m\u001b[38;5;241;43m=\u001b[39;49m\u001b[43mdtype\u001b[49m\u001b[43m,\u001b[49m\u001b[43m \u001b[49m\u001b[43mcopy\u001b[49m\u001b[38;5;241;43m=\u001b[39;49m\u001b[43mcopy\u001b[49m\u001b[43m,\u001b[49m\u001b[43m \u001b[49m\u001b[43mtyp\u001b[49m\u001b[38;5;241;43m=\u001b[39;49m\u001b[43mmanager\u001b[49m\u001b[43m)\u001b[49m\n\u001b[1;32m    665\u001b[0m \u001b[38;5;28;01melif\u001b[39;00m \u001b[38;5;28misinstance\u001b[39m(data, ma\u001b[38;5;241m.\u001b[39mMaskedArray):\n\u001b[1;32m    666\u001b[0m     \u001b[38;5;28;01mimport\u001b[39;00m \u001b[38;5;21;01mnumpy\u001b[39;00m\u001b[38;5;21;01m.\u001b[39;00m\u001b[38;5;21;01mma\u001b[39;00m\u001b[38;5;21;01m.\u001b[39;00m\u001b[38;5;21;01mmrecords\u001b[39;00m \u001b[38;5;28;01mas\u001b[39;00m \u001b[38;5;21;01mmrecords\u001b[39;00m\n",
      "File \u001b[0;32m~/.local/lib/python3.10/site-packages/pandas/core/internals/construction.py:493\u001b[0m, in \u001b[0;36mdict_to_mgr\u001b[0;34m(data, index, columns, dtype, typ, copy)\u001b[0m\n\u001b[1;32m    489\u001b[0m     \u001b[38;5;28;01melse\u001b[39;00m:\n\u001b[1;32m    490\u001b[0m         \u001b[38;5;66;03m# dtype check to exclude e.g. range objects, scalars\u001b[39;00m\n\u001b[1;32m    491\u001b[0m         arrays \u001b[38;5;241m=\u001b[39m [x\u001b[38;5;241m.\u001b[39mcopy() \u001b[38;5;28;01mif\u001b[39;00m \u001b[38;5;28mhasattr\u001b[39m(x, \u001b[38;5;124m\"\u001b[39m\u001b[38;5;124mdtype\u001b[39m\u001b[38;5;124m\"\u001b[39m) \u001b[38;5;28;01melse\u001b[39;00m x \u001b[38;5;28;01mfor\u001b[39;00m x \u001b[38;5;129;01min\u001b[39;00m arrays]\n\u001b[0;32m--> 493\u001b[0m \u001b[38;5;28;01mreturn\u001b[39;00m \u001b[43marrays_to_mgr\u001b[49m\u001b[43m(\u001b[49m\u001b[43marrays\u001b[49m\u001b[43m,\u001b[49m\u001b[43m \u001b[49m\u001b[43mcolumns\u001b[49m\u001b[43m,\u001b[49m\u001b[43m \u001b[49m\u001b[43mindex\u001b[49m\u001b[43m,\u001b[49m\u001b[43m \u001b[49m\u001b[43mdtype\u001b[49m\u001b[38;5;241;43m=\u001b[39;49m\u001b[43mdtype\u001b[49m\u001b[43m,\u001b[49m\u001b[43m \u001b[49m\u001b[43mtyp\u001b[49m\u001b[38;5;241;43m=\u001b[39;49m\u001b[43mtyp\u001b[49m\u001b[43m,\u001b[49m\u001b[43m \u001b[49m\u001b[43mconsolidate\u001b[49m\u001b[38;5;241;43m=\u001b[39;49m\u001b[43mcopy\u001b[49m\u001b[43m)\u001b[49m\n",
      "File \u001b[0;32m~/.local/lib/python3.10/site-packages/pandas/core/internals/construction.py:120\u001b[0m, in \u001b[0;36marrays_to_mgr\u001b[0;34m(arrays, columns, index, dtype, verify_integrity, typ, consolidate)\u001b[0m\n\u001b[1;32m    118\u001b[0m     index \u001b[38;5;241m=\u001b[39m _extract_index(arrays)\n\u001b[1;32m    119\u001b[0m \u001b[38;5;28;01melse\u001b[39;00m:\n\u001b[0;32m--> 120\u001b[0m     index \u001b[38;5;241m=\u001b[39m \u001b[43mensure_index\u001b[49m\u001b[43m(\u001b[49m\u001b[43mindex\u001b[49m\u001b[43m)\u001b[49m\n\u001b[1;32m    122\u001b[0m \u001b[38;5;66;03m# don't force copy because getting jammed in an ndarray anyway\u001b[39;00m\n\u001b[1;32m    123\u001b[0m arrays \u001b[38;5;241m=\u001b[39m _homogenize(arrays, index, dtype)\n",
      "File \u001b[0;32m~/.local/lib/python3.10/site-packages/pandas/core/indexes/base.py:7333\u001b[0m, in \u001b[0;36mensure_index\u001b[0;34m(index_like, copy)\u001b[0m\n\u001b[1;32m   7331\u001b[0m         \u001b[38;5;28;01mreturn\u001b[39;00m Index\u001b[38;5;241m.\u001b[39m_with_infer(index_like, copy\u001b[38;5;241m=\u001b[39mcopy, tupleize_cols\u001b[38;5;241m=\u001b[39m\u001b[38;5;28;01mFalse\u001b[39;00m)\n\u001b[1;32m   7332\u001b[0m \u001b[38;5;28;01melse\u001b[39;00m:\n\u001b[0;32m-> 7333\u001b[0m     \u001b[38;5;28;01mreturn\u001b[39;00m \u001b[43mIndex\u001b[49m\u001b[38;5;241;43m.\u001b[39;49m\u001b[43m_with_infer\u001b[49m\u001b[43m(\u001b[49m\u001b[43mindex_like\u001b[49m\u001b[43m,\u001b[49m\u001b[43m \u001b[49m\u001b[43mcopy\u001b[49m\u001b[38;5;241;43m=\u001b[39;49m\u001b[43mcopy\u001b[49m\u001b[43m)\u001b[49m\n",
      "File \u001b[0;32m~/.local/lib/python3.10/site-packages/pandas/core/indexes/base.py:716\u001b[0m, in \u001b[0;36mIndex._with_infer\u001b[0;34m(cls, *args, **kwargs)\u001b[0m\n\u001b[1;32m    714\u001b[0m \u001b[38;5;28;01mwith\u001b[39;00m warnings\u001b[38;5;241m.\u001b[39mcatch_warnings():\n\u001b[1;32m    715\u001b[0m     warnings\u001b[38;5;241m.\u001b[39mfilterwarnings(\u001b[38;5;124m\"\u001b[39m\u001b[38;5;124mignore\u001b[39m\u001b[38;5;124m\"\u001b[39m, \u001b[38;5;124m\"\u001b[39m\u001b[38;5;124m.*the Index constructor\u001b[39m\u001b[38;5;124m\"\u001b[39m, \u001b[38;5;167;01mFutureWarning\u001b[39;00m)\n\u001b[0;32m--> 716\u001b[0m     result \u001b[38;5;241m=\u001b[39m \u001b[38;5;28;43mcls\u001b[39;49m\u001b[43m(\u001b[49m\u001b[38;5;241;43m*\u001b[39;49m\u001b[43margs\u001b[49m\u001b[43m,\u001b[49m\u001b[43m \u001b[49m\u001b[38;5;241;43m*\u001b[39;49m\u001b[38;5;241;43m*\u001b[39;49m\u001b[43mkwargs\u001b[49m\u001b[43m)\u001b[49m\n\u001b[1;32m    718\u001b[0m \u001b[38;5;28;01mif\u001b[39;00m result\u001b[38;5;241m.\u001b[39mdtype \u001b[38;5;241m==\u001b[39m _dtype_obj \u001b[38;5;129;01mand\u001b[39;00m \u001b[38;5;129;01mnot\u001b[39;00m result\u001b[38;5;241m.\u001b[39m_is_multi:\n\u001b[1;32m    719\u001b[0m     \u001b[38;5;66;03m# error: Argument 1 to \"maybe_convert_objects\" has incompatible type\u001b[39;00m\n\u001b[1;32m    720\u001b[0m     \u001b[38;5;66;03m# \"Union[ExtensionArray, ndarray[Any, Any]]\"; expected\u001b[39;00m\n\u001b[1;32m    721\u001b[0m     \u001b[38;5;66;03m# \"ndarray[Any, Any]\"\u001b[39;00m\n\u001b[1;32m    722\u001b[0m     values \u001b[38;5;241m=\u001b[39m lib\u001b[38;5;241m.\u001b[39mmaybe_convert_objects(result\u001b[38;5;241m.\u001b[39m_values)  \u001b[38;5;66;03m# type: ignore[arg-type]\u001b[39;00m\n",
      "File \u001b[0;32m~/.local/lib/python3.10/site-packages/pandas/core/indexes/base.py:545\u001b[0m, in \u001b[0;36mIndex.__new__\u001b[0;34m(cls, data, dtype, copy, name, tupleize_cols, **kwargs)\u001b[0m\n\u001b[1;32m    542\u001b[0m     \u001b[38;5;28;01mreturn\u001b[39;00m klass\u001b[38;5;241m.\u001b[39m_simple_new(arr, name)\n\u001b[1;32m    544\u001b[0m \u001b[38;5;28;01melif\u001b[39;00m is_scalar(data):\n\u001b[0;32m--> 545\u001b[0m     \u001b[38;5;28;01mraise\u001b[39;00m \u001b[38;5;28mcls\u001b[39m\u001b[38;5;241m.\u001b[39m_scalar_data_error(data)\n\u001b[1;32m    546\u001b[0m \u001b[38;5;28;01melif\u001b[39;00m \u001b[38;5;28mhasattr\u001b[39m(data, \u001b[38;5;124m\"\u001b[39m\u001b[38;5;124m__array__\u001b[39m\u001b[38;5;124m\"\u001b[39m):\n\u001b[1;32m    547\u001b[0m     \u001b[38;5;28;01mreturn\u001b[39;00m Index(np\u001b[38;5;241m.\u001b[39masarray(data), dtype\u001b[38;5;241m=\u001b[39mdtype, copy\u001b[38;5;241m=\u001b[39mcopy, name\u001b[38;5;241m=\u001b[39mname, \u001b[38;5;241m*\u001b[39m\u001b[38;5;241m*\u001b[39mkwargs)\n",
      "\u001b[0;31mTypeError\u001b[0m: Index(...) must be called with a collection of some kind, False was passed"
     ]
    }
   ],
   "source": [
    "df3=pd.DataFrame(dict1, index=False) #does not work"
   ]
  },
  {
   "cell_type": "code",
   "execution_count": 30,
   "id": "c82b36f4",
   "metadata": {},
   "outputs": [],
   "source": [
    "df4 = pd.DataFrame(np.random.rand(10,4))"
   ]
  },
  {
   "cell_type": "code",
   "execution_count": 31,
   "id": "744aa4c2",
   "metadata": {},
   "outputs": [
    {
     "data": {
      "text/html": [
       "<div>\n",
       "<style scoped>\n",
       "    .dataframe tbody tr th:only-of-type {\n",
       "        vertical-align: middle;\n",
       "    }\n",
       "\n",
       "    .dataframe tbody tr th {\n",
       "        vertical-align: top;\n",
       "    }\n",
       "\n",
       "    .dataframe thead th {\n",
       "        text-align: right;\n",
       "    }\n",
       "</style>\n",
       "<table border=\"1\" class=\"dataframe\">\n",
       "  <thead>\n",
       "    <tr style=\"text-align: right;\">\n",
       "      <th></th>\n",
       "      <th>0</th>\n",
       "      <th>1</th>\n",
       "      <th>2</th>\n",
       "      <th>3</th>\n",
       "    </tr>\n",
       "  </thead>\n",
       "  <tbody>\n",
       "    <tr>\n",
       "      <th>0</th>\n",
       "      <td>0.866669</td>\n",
       "      <td>0.087549</td>\n",
       "      <td>0.137276</td>\n",
       "      <td>0.850605</td>\n",
       "    </tr>\n",
       "    <tr>\n",
       "      <th>1</th>\n",
       "      <td>0.015889</td>\n",
       "      <td>0.200046</td>\n",
       "      <td>0.310447</td>\n",
       "      <td>0.861125</td>\n",
       "    </tr>\n",
       "    <tr>\n",
       "      <th>2</th>\n",
       "      <td>0.101519</td>\n",
       "      <td>0.084843</td>\n",
       "      <td>0.566433</td>\n",
       "      <td>0.995643</td>\n",
       "    </tr>\n",
       "    <tr>\n",
       "      <th>3</th>\n",
       "      <td>0.198485</td>\n",
       "      <td>0.436529</td>\n",
       "      <td>0.725847</td>\n",
       "      <td>0.751190</td>\n",
       "    </tr>\n",
       "    <tr>\n",
       "      <th>4</th>\n",
       "      <td>0.090844</td>\n",
       "      <td>0.351179</td>\n",
       "      <td>0.113633</td>\n",
       "      <td>0.231265</td>\n",
       "    </tr>\n",
       "    <tr>\n",
       "      <th>5</th>\n",
       "      <td>0.524688</td>\n",
       "      <td>0.023323</td>\n",
       "      <td>0.749061</td>\n",
       "      <td>0.740586</td>\n",
       "    </tr>\n",
       "    <tr>\n",
       "      <th>6</th>\n",
       "      <td>0.022891</td>\n",
       "      <td>0.959848</td>\n",
       "      <td>0.691908</td>\n",
       "      <td>0.077421</td>\n",
       "    </tr>\n",
       "    <tr>\n",
       "      <th>7</th>\n",
       "      <td>0.239593</td>\n",
       "      <td>0.818633</td>\n",
       "      <td>0.960790</td>\n",
       "      <td>0.123142</td>\n",
       "    </tr>\n",
       "    <tr>\n",
       "      <th>8</th>\n",
       "      <td>0.960696</td>\n",
       "      <td>0.873145</td>\n",
       "      <td>0.634697</td>\n",
       "      <td>0.241578</td>\n",
       "    </tr>\n",
       "    <tr>\n",
       "      <th>9</th>\n",
       "      <td>0.546290</td>\n",
       "      <td>0.162262</td>\n",
       "      <td>0.786298</td>\n",
       "      <td>0.635297</td>\n",
       "    </tr>\n",
       "  </tbody>\n",
       "</table>\n",
       "</div>"
      ],
      "text/plain": [
       "          0         1         2         3\n",
       "0  0.866669  0.087549  0.137276  0.850605\n",
       "1  0.015889  0.200046  0.310447  0.861125\n",
       "2  0.101519  0.084843  0.566433  0.995643\n",
       "3  0.198485  0.436529  0.725847  0.751190\n",
       "4  0.090844  0.351179  0.113633  0.231265\n",
       "5  0.524688  0.023323  0.749061  0.740586\n",
       "6  0.022891  0.959848  0.691908  0.077421\n",
       "7  0.239593  0.818633  0.960790  0.123142\n",
       "8  0.960696  0.873145  0.634697  0.241578\n",
       "9  0.546290  0.162262  0.786298  0.635297"
      ]
     },
     "execution_count": 31,
     "metadata": {},
     "output_type": "execute_result"
    }
   ],
   "source": [
    "df4\n"
   ]
  },
  {
   "cell_type": "code",
   "execution_count": 35,
   "id": "3623f8ad",
   "metadata": {},
   "outputs": [],
   "source": [
    "dates = pd.date_range('20020210', periods=100)"
   ]
  },
  {
   "cell_type": "code",
   "execution_count": 36,
   "id": "8b1d88f3",
   "metadata": {},
   "outputs": [],
   "source": [
    "df6= pd.DataFrame(np.random.rand(100,4),index= dates, columns=list('ABCD'))"
   ]
  },
  {
   "cell_type": "code",
   "execution_count": 37,
   "id": "18c24a1c",
   "metadata": {},
   "outputs": [
    {
     "data": {
      "text/html": [
       "<div>\n",
       "<style scoped>\n",
       "    .dataframe tbody tr th:only-of-type {\n",
       "        vertical-align: middle;\n",
       "    }\n",
       "\n",
       "    .dataframe tbody tr th {\n",
       "        vertical-align: top;\n",
       "    }\n",
       "\n",
       "    .dataframe thead th {\n",
       "        text-align: right;\n",
       "    }\n",
       "</style>\n",
       "<table border=\"1\" class=\"dataframe\">\n",
       "  <thead>\n",
       "    <tr style=\"text-align: right;\">\n",
       "      <th></th>\n",
       "      <th>A</th>\n",
       "      <th>B</th>\n",
       "      <th>C</th>\n",
       "      <th>D</th>\n",
       "    </tr>\n",
       "  </thead>\n",
       "  <tbody>\n",
       "    <tr>\n",
       "      <th>2002-02-10</th>\n",
       "      <td>0.359148</td>\n",
       "      <td>0.988803</td>\n",
       "      <td>0.456786</td>\n",
       "      <td>0.158476</td>\n",
       "    </tr>\n",
       "    <tr>\n",
       "      <th>2002-02-11</th>\n",
       "      <td>0.165763</td>\n",
       "      <td>0.336500</td>\n",
       "      <td>0.306435</td>\n",
       "      <td>0.913350</td>\n",
       "    </tr>\n",
       "    <tr>\n",
       "      <th>2002-02-12</th>\n",
       "      <td>0.488313</td>\n",
       "      <td>0.073551</td>\n",
       "      <td>0.044648</td>\n",
       "      <td>0.655333</td>\n",
       "    </tr>\n",
       "    <tr>\n",
       "      <th>2002-02-13</th>\n",
       "      <td>0.383459</td>\n",
       "      <td>0.910021</td>\n",
       "      <td>0.330167</td>\n",
       "      <td>0.545505</td>\n",
       "    </tr>\n",
       "    <tr>\n",
       "      <th>2002-02-14</th>\n",
       "      <td>0.131721</td>\n",
       "      <td>0.231140</td>\n",
       "      <td>0.799983</td>\n",
       "      <td>0.130900</td>\n",
       "    </tr>\n",
       "    <tr>\n",
       "      <th>...</th>\n",
       "      <td>...</td>\n",
       "      <td>...</td>\n",
       "      <td>...</td>\n",
       "      <td>...</td>\n",
       "    </tr>\n",
       "    <tr>\n",
       "      <th>2002-05-16</th>\n",
       "      <td>0.666034</td>\n",
       "      <td>0.377438</td>\n",
       "      <td>0.318091</td>\n",
       "      <td>0.578561</td>\n",
       "    </tr>\n",
       "    <tr>\n",
       "      <th>2002-05-17</th>\n",
       "      <td>0.308890</td>\n",
       "      <td>0.523553</td>\n",
       "      <td>0.036423</td>\n",
       "      <td>0.322092</td>\n",
       "    </tr>\n",
       "    <tr>\n",
       "      <th>2002-05-18</th>\n",
       "      <td>0.651175</td>\n",
       "      <td>0.964446</td>\n",
       "      <td>0.950114</td>\n",
       "      <td>0.300150</td>\n",
       "    </tr>\n",
       "    <tr>\n",
       "      <th>2002-05-19</th>\n",
       "      <td>0.495862</td>\n",
       "      <td>0.591365</td>\n",
       "      <td>0.313526</td>\n",
       "      <td>0.987929</td>\n",
       "    </tr>\n",
       "    <tr>\n",
       "      <th>2002-05-20</th>\n",
       "      <td>0.464180</td>\n",
       "      <td>0.532119</td>\n",
       "      <td>0.646117</td>\n",
       "      <td>0.300783</td>\n",
       "    </tr>\n",
       "  </tbody>\n",
       "</table>\n",
       "<p>100 rows × 4 columns</p>\n",
       "</div>"
      ],
      "text/plain": [
       "                   A         B         C         D\n",
       "2002-02-10  0.359148  0.988803  0.456786  0.158476\n",
       "2002-02-11  0.165763  0.336500  0.306435  0.913350\n",
       "2002-02-12  0.488313  0.073551  0.044648  0.655333\n",
       "2002-02-13  0.383459  0.910021  0.330167  0.545505\n",
       "2002-02-14  0.131721  0.231140  0.799983  0.130900\n",
       "...              ...       ...       ...       ...\n",
       "2002-05-16  0.666034  0.377438  0.318091  0.578561\n",
       "2002-05-17  0.308890  0.523553  0.036423  0.322092\n",
       "2002-05-18  0.651175  0.964446  0.950114  0.300150\n",
       "2002-05-19  0.495862  0.591365  0.313526  0.987929\n",
       "2002-05-20  0.464180  0.532119  0.646117  0.300783\n",
       "\n",
       "[100 rows x 4 columns]"
      ]
     },
     "execution_count": 37,
     "metadata": {},
     "output_type": "execute_result"
    }
   ],
   "source": [
    "df6"
   ]
  },
  {
   "cell_type": "code",
   "execution_count": 39,
   "id": "e7b07613",
   "metadata": {},
   "outputs": [
    {
     "data": {
      "text/html": [
       "<div>\n",
       "<style scoped>\n",
       "    .dataframe tbody tr th:only-of-type {\n",
       "        vertical-align: middle;\n",
       "    }\n",
       "\n",
       "    .dataframe tbody tr th {\n",
       "        vertical-align: top;\n",
       "    }\n",
       "\n",
       "    .dataframe thead th {\n",
       "        text-align: right;\n",
       "    }\n",
       "</style>\n",
       "<table border=\"1\" class=\"dataframe\">\n",
       "  <thead>\n",
       "    <tr style=\"text-align: right;\">\n",
       "      <th></th>\n",
       "      <th>A</th>\n",
       "      <th>B</th>\n",
       "      <th>C</th>\n",
       "      <th>D</th>\n",
       "    </tr>\n",
       "  </thead>\n",
       "  <tbody>\n",
       "    <tr>\n",
       "      <th>2002-05-20</th>\n",
       "      <td>0.464180</td>\n",
       "      <td>0.532119</td>\n",
       "      <td>0.646117</td>\n",
       "      <td>0.300783</td>\n",
       "    </tr>\n",
       "    <tr>\n",
       "      <th>2002-05-19</th>\n",
       "      <td>0.495862</td>\n",
       "      <td>0.591365</td>\n",
       "      <td>0.313526</td>\n",
       "      <td>0.987929</td>\n",
       "    </tr>\n",
       "    <tr>\n",
       "      <th>2002-05-18</th>\n",
       "      <td>0.651175</td>\n",
       "      <td>0.964446</td>\n",
       "      <td>0.950114</td>\n",
       "      <td>0.300150</td>\n",
       "    </tr>\n",
       "    <tr>\n",
       "      <th>2002-05-17</th>\n",
       "      <td>0.308890</td>\n",
       "      <td>0.523553</td>\n",
       "      <td>0.036423</td>\n",
       "      <td>0.322092</td>\n",
       "    </tr>\n",
       "    <tr>\n",
       "      <th>2002-05-16</th>\n",
       "      <td>0.666034</td>\n",
       "      <td>0.377438</td>\n",
       "      <td>0.318091</td>\n",
       "      <td>0.578561</td>\n",
       "    </tr>\n",
       "    <tr>\n",
       "      <th>...</th>\n",
       "      <td>...</td>\n",
       "      <td>...</td>\n",
       "      <td>...</td>\n",
       "      <td>...</td>\n",
       "    </tr>\n",
       "    <tr>\n",
       "      <th>2002-02-14</th>\n",
       "      <td>0.131721</td>\n",
       "      <td>0.231140</td>\n",
       "      <td>0.799983</td>\n",
       "      <td>0.130900</td>\n",
       "    </tr>\n",
       "    <tr>\n",
       "      <th>2002-02-13</th>\n",
       "      <td>0.383459</td>\n",
       "      <td>0.910021</td>\n",
       "      <td>0.330167</td>\n",
       "      <td>0.545505</td>\n",
       "    </tr>\n",
       "    <tr>\n",
       "      <th>2002-02-12</th>\n",
       "      <td>0.488313</td>\n",
       "      <td>0.073551</td>\n",
       "      <td>0.044648</td>\n",
       "      <td>0.655333</td>\n",
       "    </tr>\n",
       "    <tr>\n",
       "      <th>2002-02-11</th>\n",
       "      <td>0.165763</td>\n",
       "      <td>0.336500</td>\n",
       "      <td>0.306435</td>\n",
       "      <td>0.913350</td>\n",
       "    </tr>\n",
       "    <tr>\n",
       "      <th>2002-02-10</th>\n",
       "      <td>0.359148</td>\n",
       "      <td>0.988803</td>\n",
       "      <td>0.456786</td>\n",
       "      <td>0.158476</td>\n",
       "    </tr>\n",
       "  </tbody>\n",
       "</table>\n",
       "<p>100 rows × 4 columns</p>\n",
       "</div>"
      ],
      "text/plain": [
       "                   A         B         C         D\n",
       "2002-05-20  0.464180  0.532119  0.646117  0.300783\n",
       "2002-05-19  0.495862  0.591365  0.313526  0.987929\n",
       "2002-05-18  0.651175  0.964446  0.950114  0.300150\n",
       "2002-05-17  0.308890  0.523553  0.036423  0.322092\n",
       "2002-05-16  0.666034  0.377438  0.318091  0.578561\n",
       "...              ...       ...       ...       ...\n",
       "2002-02-14  0.131721  0.231140  0.799983  0.130900\n",
       "2002-02-13  0.383459  0.910021  0.330167  0.545505\n",
       "2002-02-12  0.488313  0.073551  0.044648  0.655333\n",
       "2002-02-11  0.165763  0.336500  0.306435  0.913350\n",
       "2002-02-10  0.359148  0.988803  0.456786  0.158476\n",
       "\n",
       "[100 rows x 4 columns]"
      ]
     },
     "execution_count": 39,
     "metadata": {},
     "output_type": "execute_result"
    }
   ],
   "source": [
    "df6.sort_index(axis=0, ascending=False)"
   ]
  },
  {
   "cell_type": "code",
   "execution_count": 41,
   "id": "7f35fc82",
   "metadata": {},
   "outputs": [
    {
     "data": {
      "text/html": [
       "<div>\n",
       "<style scoped>\n",
       "    .dataframe tbody tr th:only-of-type {\n",
       "        vertical-align: middle;\n",
       "    }\n",
       "\n",
       "    .dataframe tbody tr th {\n",
       "        vertical-align: top;\n",
       "    }\n",
       "\n",
       "    .dataframe thead th {\n",
       "        text-align: right;\n",
       "    }\n",
       "</style>\n",
       "<table border=\"1\" class=\"dataframe\">\n",
       "  <thead>\n",
       "    <tr style=\"text-align: right;\">\n",
       "      <th></th>\n",
       "      <th>A</th>\n",
       "      <th>B</th>\n",
       "      <th>C</th>\n",
       "      <th>D</th>\n",
       "    </tr>\n",
       "  </thead>\n",
       "  <tbody>\n",
       "    <tr>\n",
       "      <th>2002-03-20</th>\n",
       "      <td>0.000460</td>\n",
       "      <td>0.005474</td>\n",
       "      <td>0.504930</td>\n",
       "      <td>0.330128</td>\n",
       "    </tr>\n",
       "    <tr>\n",
       "      <th>2002-03-01</th>\n",
       "      <td>0.417365</td>\n",
       "      <td>0.012711</td>\n",
       "      <td>0.778698</td>\n",
       "      <td>0.842428</td>\n",
       "    </tr>\n",
       "    <tr>\n",
       "      <th>2002-03-17</th>\n",
       "      <td>0.340600</td>\n",
       "      <td>0.025136</td>\n",
       "      <td>0.059088</td>\n",
       "      <td>0.967667</td>\n",
       "    </tr>\n",
       "    <tr>\n",
       "      <th>2002-03-27</th>\n",
       "      <td>0.654248</td>\n",
       "      <td>0.030673</td>\n",
       "      <td>0.158791</td>\n",
       "      <td>0.030967</td>\n",
       "    </tr>\n",
       "    <tr>\n",
       "      <th>2002-02-28</th>\n",
       "      <td>0.070293</td>\n",
       "      <td>0.039756</td>\n",
       "      <td>0.996142</td>\n",
       "      <td>0.389380</td>\n",
       "    </tr>\n",
       "    <tr>\n",
       "      <th>...</th>\n",
       "      <td>...</td>\n",
       "      <td>...</td>\n",
       "      <td>...</td>\n",
       "      <td>...</td>\n",
       "    </tr>\n",
       "    <tr>\n",
       "      <th>2002-05-18</th>\n",
       "      <td>0.651175</td>\n",
       "      <td>0.964446</td>\n",
       "      <td>0.950114</td>\n",
       "      <td>0.300150</td>\n",
       "    </tr>\n",
       "    <tr>\n",
       "      <th>2002-04-22</th>\n",
       "      <td>0.323312</td>\n",
       "      <td>0.972872</td>\n",
       "      <td>0.698058</td>\n",
       "      <td>0.346008</td>\n",
       "    </tr>\n",
       "    <tr>\n",
       "      <th>2002-03-13</th>\n",
       "      <td>0.798817</td>\n",
       "      <td>0.973351</td>\n",
       "      <td>0.369900</td>\n",
       "      <td>0.682250</td>\n",
       "    </tr>\n",
       "    <tr>\n",
       "      <th>2002-02-10</th>\n",
       "      <td>0.359148</td>\n",
       "      <td>0.988803</td>\n",
       "      <td>0.456786</td>\n",
       "      <td>0.158476</td>\n",
       "    </tr>\n",
       "    <tr>\n",
       "      <th>2002-05-14</th>\n",
       "      <td>0.034127</td>\n",
       "      <td>0.999131</td>\n",
       "      <td>0.833138</td>\n",
       "      <td>0.217863</td>\n",
       "    </tr>\n",
       "  </tbody>\n",
       "</table>\n",
       "<p>100 rows × 4 columns</p>\n",
       "</div>"
      ],
      "text/plain": [
       "                   A         B         C         D\n",
       "2002-03-20  0.000460  0.005474  0.504930  0.330128\n",
       "2002-03-01  0.417365  0.012711  0.778698  0.842428\n",
       "2002-03-17  0.340600  0.025136  0.059088  0.967667\n",
       "2002-03-27  0.654248  0.030673  0.158791  0.030967\n",
       "2002-02-28  0.070293  0.039756  0.996142  0.389380\n",
       "...              ...       ...       ...       ...\n",
       "2002-05-18  0.651175  0.964446  0.950114  0.300150\n",
       "2002-04-22  0.323312  0.972872  0.698058  0.346008\n",
       "2002-03-13  0.798817  0.973351  0.369900  0.682250\n",
       "2002-02-10  0.359148  0.988803  0.456786  0.158476\n",
       "2002-05-14  0.034127  0.999131  0.833138  0.217863\n",
       "\n",
       "[100 rows x 4 columns]"
      ]
     },
     "execution_count": 41,
     "metadata": {},
     "output_type": "execute_result"
    }
   ],
   "source": [
    "df6.sort_values(by='B')"
   ]
  },
  {
   "cell_type": "code",
   "execution_count": 47,
   "id": "28ea43b9",
   "metadata": {},
   "outputs": [
    {
     "data": {
      "text/html": [
       "<div>\n",
       "<style scoped>\n",
       "    .dataframe tbody tr th:only-of-type {\n",
       "        vertical-align: middle;\n",
       "    }\n",
       "\n",
       "    .dataframe tbody tr th {\n",
       "        vertical-align: top;\n",
       "    }\n",
       "\n",
       "    .dataframe thead th {\n",
       "        text-align: right;\n",
       "    }\n",
       "</style>\n",
       "<table border=\"1\" class=\"dataframe\">\n",
       "  <thead>\n",
       "    <tr style=\"text-align: right;\">\n",
       "      <th></th>\n",
       "      <th>A</th>\n",
       "      <th>B</th>\n",
       "      <th>C</th>\n",
       "      <th>D</th>\n",
       "    </tr>\n",
       "  </thead>\n",
       "  <tbody>\n",
       "    <tr>\n",
       "      <th>2002-02-10</th>\n",
       "      <td>0.359148</td>\n",
       "      <td>0.988803</td>\n",
       "      <td>0.456786</td>\n",
       "      <td>0.158476</td>\n",
       "    </tr>\n",
       "    <tr>\n",
       "      <th>2002-02-11</th>\n",
       "      <td>0.165763</td>\n",
       "      <td>0.336500</td>\n",
       "      <td>0.306435</td>\n",
       "      <td>0.913350</td>\n",
       "    </tr>\n",
       "    <tr>\n",
       "      <th>2002-02-12</th>\n",
       "      <td>0.488313</td>\n",
       "      <td>0.073551</td>\n",
       "      <td>0.044648</td>\n",
       "      <td>0.655333</td>\n",
       "    </tr>\n",
       "  </tbody>\n",
       "</table>\n",
       "</div>"
      ],
      "text/plain": [
       "                   A         B         C         D\n",
       "2002-02-10  0.359148  0.988803  0.456786  0.158476\n",
       "2002-02-11  0.165763  0.336500  0.306435  0.913350\n",
       "2002-02-12  0.488313  0.073551  0.044648  0.655333"
      ]
     },
     "execution_count": 47,
     "metadata": {},
     "output_type": "execute_result"
    }
   ],
   "source": [
    "df6[0:3]"
   ]
  },
  {
   "cell_type": "code",
   "execution_count": 49,
   "id": "ffc5cc05",
   "metadata": {},
   "outputs": [
    {
     "data": {
      "text/plain": [
       "A    0.359148\n",
       "B    0.988803\n",
       "C    0.456786\n",
       "D    0.158476\n",
       "Name: 2002-02-10 00:00:00, dtype: float64"
      ]
     },
     "execution_count": 49,
     "metadata": {},
     "output_type": "execute_result"
    }
   ],
   "source": [
    "df6.iloc[0]"
   ]
  },
  {
   "cell_type": "code",
   "execution_count": 51,
   "id": "99360a38",
   "metadata": {},
   "outputs": [
    {
     "data": {
      "text/plain": [
       "A    0.359148\n",
       "B    0.988803\n",
       "Name: 2002-02-10 00:00:00, dtype: float64"
      ]
     },
     "execution_count": 51,
     "metadata": {},
     "output_type": "execute_result"
    }
   ],
   "source": [
    "df6.iloc[0,:2]"
   ]
  },
  {
   "cell_type": "code",
   "execution_count": 53,
   "id": "2ef92505",
   "metadata": {},
   "outputs": [
    {
     "data": {
      "text/plain": [
       "2002-02-10    0.359148\n",
       "2002-02-11    0.165763\n",
       "2002-02-12    0.488313\n",
       "2002-02-13    0.383459\n",
       "2002-02-14    0.131721\n",
       "                ...   \n",
       "2002-05-16    0.666034\n",
       "2002-05-17    0.308890\n",
       "2002-05-18    0.651175\n",
       "2002-05-19    0.495862\n",
       "2002-05-20    0.464180\n",
       "Freq: D, Name: A, Length: 100, dtype: float64"
      ]
     },
     "execution_count": 53,
     "metadata": {},
     "output_type": "execute_result"
    }
   ],
   "source": [
    "df6['A']"
   ]
  },
  {
   "cell_type": "code",
   "execution_count": 63,
   "id": "ecaa94a0",
   "metadata": {},
   "outputs": [
    {
     "data": {
      "text/plain": [
       "2002-02-10     True\n",
       "2002-02-11     True\n",
       "2002-02-12     True\n",
       "2002-02-13     True\n",
       "2002-02-14     True\n",
       "              ...  \n",
       "2002-05-16    False\n",
       "2002-05-17     True\n",
       "2002-05-18    False\n",
       "2002-05-19     True\n",
       "2002-05-20     True\n",
       "Freq: D, Name: A, Length: 100, dtype: bool"
      ]
     },
     "execution_count": 63,
     "metadata": {},
     "output_type": "execute_result"
    }
   ],
   "source": [
    "df6['A']<0.5"
   ]
  },
  {
   "cell_type": "code",
   "execution_count": 64,
   "id": "0260eaba",
   "metadata": {},
   "outputs": [],
   "source": [
    "dict1 ={\n",
    "    \"Name\":['Ayushman', 'Sagar', 'Shyam', 'Parv'],\n",
    "    \"Height\":[168, 167, 168,170],\n",
    "    \"Qualification\":['IAS', 'PHD', 'PHD','PHD']\n",
    "}"
   ]
  },
  {
   "cell_type": "code",
   "execution_count": 65,
   "id": "a7b0ca2e",
   "metadata": {},
   "outputs": [],
   "source": [
    "df10= pd.DataFrame(dict1)"
   ]
  },
  {
   "cell_type": "code",
   "execution_count": 66,
   "id": "29cde761",
   "metadata": {},
   "outputs": [
    {
     "data": {
      "text/html": [
       "<div>\n",
       "<style scoped>\n",
       "    .dataframe tbody tr th:only-of-type {\n",
       "        vertical-align: middle;\n",
       "    }\n",
       "\n",
       "    .dataframe tbody tr th {\n",
       "        vertical-align: top;\n",
       "    }\n",
       "\n",
       "    .dataframe thead th {\n",
       "        text-align: right;\n",
       "    }\n",
       "</style>\n",
       "<table border=\"1\" class=\"dataframe\">\n",
       "  <thead>\n",
       "    <tr style=\"text-align: right;\">\n",
       "      <th></th>\n",
       "      <th>Name</th>\n",
       "      <th>Height</th>\n",
       "      <th>Qualification</th>\n",
       "    </tr>\n",
       "  </thead>\n",
       "  <tbody>\n",
       "    <tr>\n",
       "      <th>0</th>\n",
       "      <td>Ayushman</td>\n",
       "      <td>168</td>\n",
       "      <td>IAS</td>\n",
       "    </tr>\n",
       "    <tr>\n",
       "      <th>1</th>\n",
       "      <td>Sagar</td>\n",
       "      <td>167</td>\n",
       "      <td>PHD</td>\n",
       "    </tr>\n",
       "    <tr>\n",
       "      <th>2</th>\n",
       "      <td>Shyam</td>\n",
       "      <td>168</td>\n",
       "      <td>PHD</td>\n",
       "    </tr>\n",
       "    <tr>\n",
       "      <th>3</th>\n",
       "      <td>Parv</td>\n",
       "      <td>170</td>\n",
       "      <td>PHD</td>\n",
       "    </tr>\n",
       "  </tbody>\n",
       "</table>\n",
       "</div>"
      ],
      "text/plain": [
       "       Name  Height Qualification\n",
       "0  Ayushman     168           IAS\n",
       "1     Sagar     167           PHD\n",
       "2     Shyam     168           PHD\n",
       "3      Parv     170           PHD"
      ]
     },
     "execution_count": 66,
     "metadata": {},
     "output_type": "execute_result"
    }
   ],
   "source": [
    "df10\n"
   ]
  },
  {
   "cell_type": "code",
   "execution_count": 67,
   "id": "8d81180c",
   "metadata": {},
   "outputs": [],
   "source": [
    "mylist =['Patna', 'Patna', 'Chennai', 'Jaipur']"
   ]
  },
  {
   "cell_type": "code",
   "execution_count": 68,
   "id": "06b11932",
   "metadata": {},
   "outputs": [],
   "source": [
    "df10['Address']=mylist"
   ]
  },
  {
   "cell_type": "code",
   "execution_count": 69,
   "id": "52778d9e",
   "metadata": {},
   "outputs": [
    {
     "data": {
      "text/html": [
       "<div>\n",
       "<style scoped>\n",
       "    .dataframe tbody tr th:only-of-type {\n",
       "        vertical-align: middle;\n",
       "    }\n",
       "\n",
       "    .dataframe tbody tr th {\n",
       "        vertical-align: top;\n",
       "    }\n",
       "\n",
       "    .dataframe thead th {\n",
       "        text-align: right;\n",
       "    }\n",
       "</style>\n",
       "<table border=\"1\" class=\"dataframe\">\n",
       "  <thead>\n",
       "    <tr style=\"text-align: right;\">\n",
       "      <th></th>\n",
       "      <th>Name</th>\n",
       "      <th>Height</th>\n",
       "      <th>Qualification</th>\n",
       "      <th>Address</th>\n",
       "    </tr>\n",
       "  </thead>\n",
       "  <tbody>\n",
       "    <tr>\n",
       "      <th>0</th>\n",
       "      <td>Ayushman</td>\n",
       "      <td>168</td>\n",
       "      <td>IAS</td>\n",
       "      <td>Patna</td>\n",
       "    </tr>\n",
       "    <tr>\n",
       "      <th>1</th>\n",
       "      <td>Sagar</td>\n",
       "      <td>167</td>\n",
       "      <td>PHD</td>\n",
       "      <td>Patna</td>\n",
       "    </tr>\n",
       "    <tr>\n",
       "      <th>2</th>\n",
       "      <td>Shyam</td>\n",
       "      <td>168</td>\n",
       "      <td>PHD</td>\n",
       "      <td>Chennai</td>\n",
       "    </tr>\n",
       "    <tr>\n",
       "      <th>3</th>\n",
       "      <td>Parv</td>\n",
       "      <td>170</td>\n",
       "      <td>PHD</td>\n",
       "      <td>Jaipur</td>\n",
       "    </tr>\n",
       "  </tbody>\n",
       "</table>\n",
       "</div>"
      ],
      "text/plain": [
       "       Name  Height Qualification  Address\n",
       "0  Ayushman     168           IAS    Patna\n",
       "1     Sagar     167           PHD    Patna\n",
       "2     Shyam     168           PHD  Chennai\n",
       "3      Parv     170           PHD   Jaipur"
      ]
     },
     "execution_count": 69,
     "metadata": {},
     "output_type": "execute_result"
    }
   ],
   "source": [
    "df10"
   ]
  },
  {
   "cell_type": "code",
   "execution_count": 72,
   "id": "3af3d140",
   "metadata": {},
   "outputs": [],
   "source": [
    "df10.insert(4,'College',['MIT', 'MIT','MIT', 'IIT'])"
   ]
  },
  {
   "cell_type": "code",
   "execution_count": 73,
   "id": "a808b1ce",
   "metadata": {},
   "outputs": [
    {
     "data": {
      "text/html": [
       "<div>\n",
       "<style scoped>\n",
       "    .dataframe tbody tr th:only-of-type {\n",
       "        vertical-align: middle;\n",
       "    }\n",
       "\n",
       "    .dataframe tbody tr th {\n",
       "        vertical-align: top;\n",
       "    }\n",
       "\n",
       "    .dataframe thead th {\n",
       "        text-align: right;\n",
       "    }\n",
       "</style>\n",
       "<table border=\"1\" class=\"dataframe\">\n",
       "  <thead>\n",
       "    <tr style=\"text-align: right;\">\n",
       "      <th></th>\n",
       "      <th>Name</th>\n",
       "      <th>Height</th>\n",
       "      <th>Qualification</th>\n",
       "      <th>Address</th>\n",
       "      <th>College</th>\n",
       "    </tr>\n",
       "  </thead>\n",
       "  <tbody>\n",
       "    <tr>\n",
       "      <th>0</th>\n",
       "      <td>Ayushman</td>\n",
       "      <td>168</td>\n",
       "      <td>IAS</td>\n",
       "      <td>Patna</td>\n",
       "      <td>MIT</td>\n",
       "    </tr>\n",
       "    <tr>\n",
       "      <th>1</th>\n",
       "      <td>Sagar</td>\n",
       "      <td>167</td>\n",
       "      <td>PHD</td>\n",
       "      <td>Patna</td>\n",
       "      <td>MIT</td>\n",
       "    </tr>\n",
       "    <tr>\n",
       "      <th>2</th>\n",
       "      <td>Shyam</td>\n",
       "      <td>168</td>\n",
       "      <td>PHD</td>\n",
       "      <td>Chennai</td>\n",
       "      <td>MIT</td>\n",
       "    </tr>\n",
       "    <tr>\n",
       "      <th>3</th>\n",
       "      <td>Parv</td>\n",
       "      <td>170</td>\n",
       "      <td>PHD</td>\n",
       "      <td>Jaipur</td>\n",
       "      <td>IIT</td>\n",
       "    </tr>\n",
       "  </tbody>\n",
       "</table>\n",
       "</div>"
      ],
      "text/plain": [
       "       Name  Height Qualification  Address College\n",
       "0  Ayushman     168           IAS    Patna     MIT\n",
       "1     Sagar     167           PHD    Patna     MIT\n",
       "2     Shyam     168           PHD  Chennai     MIT\n",
       "3      Parv     170           PHD   Jaipur     IIT"
      ]
     },
     "execution_count": 73,
     "metadata": {},
     "output_type": "execute_result"
    }
   ],
   "source": [
    "df10"
   ]
  },
  {
   "cell_type": "code",
   "execution_count": 74,
   "id": "88a2928d",
   "metadata": {},
   "outputs": [],
   "source": [
    "newdf1 = pd.DataFrame({\n",
    "    \"Name\": ['Ram','Diya','Chandan', 'James', 'Alice']\n",
    "})"
   ]
  },
  {
   "cell_type": "code",
   "execution_count": 76,
   "id": "7c9d61b1",
   "metadata": {},
   "outputs": [],
   "source": [
    "newdf2= pd.DataFrame({\n",
    "    \"Maths\":[80, 90, 77.5, 87.5, 86.5],\n",
    "    \"Physics\":[81, 94, 74.5, 83, 82.5],\n",
    "    \"Chemistry\":[91.5, 86.5, 85.5,90.0, 91.0],\n",
    "    \"Biology\":[82.5, 83.5, 84.5,85.0, 93.0]}\n",
    ")"
   ]
  },
  {
   "cell_type": "code",
   "execution_count": 77,
   "id": "5bc96518",
   "metadata": {},
   "outputs": [
    {
     "data": {
      "text/html": [
       "<div>\n",
       "<style scoped>\n",
       "    .dataframe tbody tr th:only-of-type {\n",
       "        vertical-align: middle;\n",
       "    }\n",
       "\n",
       "    .dataframe tbody tr th {\n",
       "        vertical-align: top;\n",
       "    }\n",
       "\n",
       "    .dataframe thead th {\n",
       "        text-align: right;\n",
       "    }\n",
       "</style>\n",
       "<table border=\"1\" class=\"dataframe\">\n",
       "  <thead>\n",
       "    <tr style=\"text-align: right;\">\n",
       "      <th></th>\n",
       "      <th>Name</th>\n",
       "    </tr>\n",
       "  </thead>\n",
       "  <tbody>\n",
       "    <tr>\n",
       "      <th>0</th>\n",
       "      <td>Ram</td>\n",
       "    </tr>\n",
       "    <tr>\n",
       "      <th>1</th>\n",
       "      <td>Diya</td>\n",
       "    </tr>\n",
       "    <tr>\n",
       "      <th>2</th>\n",
       "      <td>Chandan</td>\n",
       "    </tr>\n",
       "    <tr>\n",
       "      <th>3</th>\n",
       "      <td>James</td>\n",
       "    </tr>\n",
       "    <tr>\n",
       "      <th>4</th>\n",
       "      <td>Alice</td>\n",
       "    </tr>\n",
       "  </tbody>\n",
       "</table>\n",
       "</div>"
      ],
      "text/plain": [
       "      Name\n",
       "0      Ram\n",
       "1     Diya\n",
       "2  Chandan\n",
       "3    James\n",
       "4    Alice"
      ]
     },
     "execution_count": 77,
     "metadata": {},
     "output_type": "execute_result"
    }
   ],
   "source": [
    "newdf1"
   ]
  },
  {
   "cell_type": "code",
   "execution_count": 78,
   "id": "f83c1727",
   "metadata": {},
   "outputs": [
    {
     "data": {
      "text/html": [
       "<div>\n",
       "<style scoped>\n",
       "    .dataframe tbody tr th:only-of-type {\n",
       "        vertical-align: middle;\n",
       "    }\n",
       "\n",
       "    .dataframe tbody tr th {\n",
       "        vertical-align: top;\n",
       "    }\n",
       "\n",
       "    .dataframe thead th {\n",
       "        text-align: right;\n",
       "    }\n",
       "</style>\n",
       "<table border=\"1\" class=\"dataframe\">\n",
       "  <thead>\n",
       "    <tr style=\"text-align: right;\">\n",
       "      <th></th>\n",
       "      <th>Maths</th>\n",
       "      <th>Physics</th>\n",
       "      <th>Chemistry</th>\n",
       "      <th>Biology</th>\n",
       "    </tr>\n",
       "  </thead>\n",
       "  <tbody>\n",
       "    <tr>\n",
       "      <th>0</th>\n",
       "      <td>80.0</td>\n",
       "      <td>81.0</td>\n",
       "      <td>91.5</td>\n",
       "      <td>82.5</td>\n",
       "    </tr>\n",
       "    <tr>\n",
       "      <th>1</th>\n",
       "      <td>90.0</td>\n",
       "      <td>94.0</td>\n",
       "      <td>86.5</td>\n",
       "      <td>83.5</td>\n",
       "    </tr>\n",
       "    <tr>\n",
       "      <th>2</th>\n",
       "      <td>77.5</td>\n",
       "      <td>74.5</td>\n",
       "      <td>85.5</td>\n",
       "      <td>84.5</td>\n",
       "    </tr>\n",
       "    <tr>\n",
       "      <th>3</th>\n",
       "      <td>87.5</td>\n",
       "      <td>83.0</td>\n",
       "      <td>90.0</td>\n",
       "      <td>85.0</td>\n",
       "    </tr>\n",
       "    <tr>\n",
       "      <th>4</th>\n",
       "      <td>86.5</td>\n",
       "      <td>82.5</td>\n",
       "      <td>91.0</td>\n",
       "      <td>93.0</td>\n",
       "    </tr>\n",
       "  </tbody>\n",
       "</table>\n",
       "</div>"
      ],
      "text/plain": [
       "   Maths  Physics  Chemistry  Biology\n",
       "0   80.0     81.0       91.5     82.5\n",
       "1   90.0     94.0       86.5     83.5\n",
       "2   77.5     74.5       85.5     84.5\n",
       "3   87.5     83.0       90.0     85.0\n",
       "4   86.5     82.5       91.0     93.0"
      ]
     },
     "execution_count": 78,
     "metadata": {},
     "output_type": "execute_result"
    }
   ],
   "source": [
    "newdf2"
   ]
  },
  {
   "cell_type": "code",
   "execution_count": 79,
   "id": "957bd0d5",
   "metadata": {},
   "outputs": [
    {
     "name": "stderr",
     "output_type": "stream",
     "text": [
      "/tmp/ipykernel_960683/2659167616.py:1: FutureWarning: In a future version of pandas all arguments of concat except for the argument 'objs' will be keyword-only.\n",
      "  pd.concat(newdf1, newdf2, axis=1)\n"
     ]
    },
    {
     "ename": "TypeError",
     "evalue": "concat() got multiple values for argument 'axis'",
     "output_type": "error",
     "traceback": [
      "\u001b[0;31m---------------------------------------------------------------------------\u001b[0m",
      "\u001b[0;31mTypeError\u001b[0m                                 Traceback (most recent call last)",
      "Cell \u001b[0;32mIn[79], line 1\u001b[0m\n\u001b[0;32m----> 1\u001b[0m \u001b[43mpd\u001b[49m\u001b[38;5;241;43m.\u001b[39;49m\u001b[43mconcat\u001b[49m\u001b[43m(\u001b[49m\u001b[43mnewdf1\u001b[49m\u001b[43m,\u001b[49m\u001b[43m \u001b[49m\u001b[43mnewdf2\u001b[49m\u001b[43m,\u001b[49m\u001b[43m \u001b[49m\u001b[43maxis\u001b[49m\u001b[38;5;241;43m=\u001b[39;49m\u001b[38;5;241;43m1\u001b[39;49m\u001b[43m)\u001b[49m\n",
      "File \u001b[0;32m~/.local/lib/python3.10/site-packages/pandas/util/_decorators.py:331\u001b[0m, in \u001b[0;36mdeprecate_nonkeyword_arguments.<locals>.decorate.<locals>.wrapper\u001b[0;34m(*args, **kwargs)\u001b[0m\n\u001b[1;32m    325\u001b[0m \u001b[38;5;28;01mif\u001b[39;00m \u001b[38;5;28mlen\u001b[39m(args) \u001b[38;5;241m>\u001b[39m num_allow_args:\n\u001b[1;32m    326\u001b[0m     warnings\u001b[38;5;241m.\u001b[39mwarn(\n\u001b[1;32m    327\u001b[0m         msg\u001b[38;5;241m.\u001b[39mformat(arguments\u001b[38;5;241m=\u001b[39m_format_argument_list(allow_args)),\n\u001b[1;32m    328\u001b[0m         \u001b[38;5;167;01mFutureWarning\u001b[39;00m,\n\u001b[1;32m    329\u001b[0m         stacklevel\u001b[38;5;241m=\u001b[39mfind_stack_level(),\n\u001b[1;32m    330\u001b[0m     )\n\u001b[0;32m--> 331\u001b[0m \u001b[38;5;28;01mreturn\u001b[39;00m \u001b[43mfunc\u001b[49m\u001b[43m(\u001b[49m\u001b[38;5;241;43m*\u001b[39;49m\u001b[43margs\u001b[49m\u001b[43m,\u001b[49m\u001b[43m \u001b[49m\u001b[38;5;241;43m*\u001b[39;49m\u001b[38;5;241;43m*\u001b[39;49m\u001b[43mkwargs\u001b[49m\u001b[43m)\u001b[49m\n",
      "\u001b[0;31mTypeError\u001b[0m: concat() got multiple values for argument 'axis'"
     ]
    }
   ],
   "source": [
    "pd.concat(newdf1, newdf2, axis=1)"
   ]
  },
  {
   "cell_type": "code",
   "execution_count": 80,
   "id": "de3030ac",
   "metadata": {},
   "outputs": [],
   "source": [
    "newdf3= pd.concat([newdf1, newdf2], axis=1)"
   ]
  },
  {
   "cell_type": "code",
   "execution_count": 81,
   "id": "0ae16ed8",
   "metadata": {},
   "outputs": [
    {
     "data": {
      "text/html": [
       "<div>\n",
       "<style scoped>\n",
       "    .dataframe tbody tr th:only-of-type {\n",
       "        vertical-align: middle;\n",
       "    }\n",
       "\n",
       "    .dataframe tbody tr th {\n",
       "        vertical-align: top;\n",
       "    }\n",
       "\n",
       "    .dataframe thead th {\n",
       "        text-align: right;\n",
       "    }\n",
       "</style>\n",
       "<table border=\"1\" class=\"dataframe\">\n",
       "  <thead>\n",
       "    <tr style=\"text-align: right;\">\n",
       "      <th></th>\n",
       "      <th>Name</th>\n",
       "      <th>Maths</th>\n",
       "      <th>Physics</th>\n",
       "      <th>Chemistry</th>\n",
       "      <th>Biology</th>\n",
       "    </tr>\n",
       "  </thead>\n",
       "  <tbody>\n",
       "    <tr>\n",
       "      <th>0</th>\n",
       "      <td>Ram</td>\n",
       "      <td>80.0</td>\n",
       "      <td>81.0</td>\n",
       "      <td>91.5</td>\n",
       "      <td>82.5</td>\n",
       "    </tr>\n",
       "    <tr>\n",
       "      <th>1</th>\n",
       "      <td>Diya</td>\n",
       "      <td>90.0</td>\n",
       "      <td>94.0</td>\n",
       "      <td>86.5</td>\n",
       "      <td>83.5</td>\n",
       "    </tr>\n",
       "    <tr>\n",
       "      <th>2</th>\n",
       "      <td>Chandan</td>\n",
       "      <td>77.5</td>\n",
       "      <td>74.5</td>\n",
       "      <td>85.5</td>\n",
       "      <td>84.5</td>\n",
       "    </tr>\n",
       "    <tr>\n",
       "      <th>3</th>\n",
       "      <td>James</td>\n",
       "      <td>87.5</td>\n",
       "      <td>83.0</td>\n",
       "      <td>90.0</td>\n",
       "      <td>85.0</td>\n",
       "    </tr>\n",
       "    <tr>\n",
       "      <th>4</th>\n",
       "      <td>Alice</td>\n",
       "      <td>86.5</td>\n",
       "      <td>82.5</td>\n",
       "      <td>91.0</td>\n",
       "      <td>93.0</td>\n",
       "    </tr>\n",
       "  </tbody>\n",
       "</table>\n",
       "</div>"
      ],
      "text/plain": [
       "      Name  Maths  Physics  Chemistry  Biology\n",
       "0      Ram   80.0     81.0       91.5     82.5\n",
       "1     Diya   90.0     94.0       86.5     83.5\n",
       "2  Chandan   77.5     74.5       85.5     84.5\n",
       "3    James   87.5     83.0       90.0     85.0\n",
       "4    Alice   86.5     82.5       91.0     93.0"
      ]
     },
     "execution_count": 81,
     "metadata": {},
     "output_type": "execute_result"
    }
   ],
   "source": [
    "newdf3"
   ]
  },
  {
   "cell_type": "code",
   "execution_count": 85,
   "id": "b2ff7522",
   "metadata": {},
   "outputs": [
    {
     "name": "stderr",
     "output_type": "stream",
     "text": [
      "/tmp/ipykernel_960683/4124398022.py:1: FutureWarning: Dropping of nuisance columns in DataFrame reductions (with 'numeric_only=None') is deprecated; in a future version this will raise TypeError.  Select only valid columns before calling the reduction.\n",
      "  newdf3['Total']= newdf3.sum(axis=1)\n"
     ]
    }
   ],
   "source": [
    "newdf3['Total']= newdf3.sum(axis=1) #ignore warning"
   ]
  },
  {
   "cell_type": "code",
   "execution_count": 86,
   "id": "eec2867e",
   "metadata": {},
   "outputs": [
    {
     "data": {
      "text/html": [
       "<div>\n",
       "<style scoped>\n",
       "    .dataframe tbody tr th:only-of-type {\n",
       "        vertical-align: middle;\n",
       "    }\n",
       "\n",
       "    .dataframe tbody tr th {\n",
       "        vertical-align: top;\n",
       "    }\n",
       "\n",
       "    .dataframe thead th {\n",
       "        text-align: right;\n",
       "    }\n",
       "</style>\n",
       "<table border=\"1\" class=\"dataframe\">\n",
       "  <thead>\n",
       "    <tr style=\"text-align: right;\">\n",
       "      <th></th>\n",
       "      <th>Name</th>\n",
       "      <th>Maths</th>\n",
       "      <th>Physics</th>\n",
       "      <th>Chemistry</th>\n",
       "      <th>Biology</th>\n",
       "      <th>Total</th>\n",
       "    </tr>\n",
       "  </thead>\n",
       "  <tbody>\n",
       "    <tr>\n",
       "      <th>0</th>\n",
       "      <td>Ram</td>\n",
       "      <td>80.0</td>\n",
       "      <td>81.0</td>\n",
       "      <td>91.5</td>\n",
       "      <td>82.5</td>\n",
       "      <td>335.0</td>\n",
       "    </tr>\n",
       "    <tr>\n",
       "      <th>1</th>\n",
       "      <td>Diya</td>\n",
       "      <td>90.0</td>\n",
       "      <td>94.0</td>\n",
       "      <td>86.5</td>\n",
       "      <td>83.5</td>\n",
       "      <td>354.0</td>\n",
       "    </tr>\n",
       "    <tr>\n",
       "      <th>2</th>\n",
       "      <td>Chandan</td>\n",
       "      <td>77.5</td>\n",
       "      <td>74.5</td>\n",
       "      <td>85.5</td>\n",
       "      <td>84.5</td>\n",
       "      <td>322.0</td>\n",
       "    </tr>\n",
       "    <tr>\n",
       "      <th>3</th>\n",
       "      <td>James</td>\n",
       "      <td>87.5</td>\n",
       "      <td>83.0</td>\n",
       "      <td>90.0</td>\n",
       "      <td>85.0</td>\n",
       "      <td>345.5</td>\n",
       "    </tr>\n",
       "    <tr>\n",
       "      <th>4</th>\n",
       "      <td>Alice</td>\n",
       "      <td>86.5</td>\n",
       "      <td>82.5</td>\n",
       "      <td>91.0</td>\n",
       "      <td>93.0</td>\n",
       "      <td>353.0</td>\n",
       "    </tr>\n",
       "  </tbody>\n",
       "</table>\n",
       "</div>"
      ],
      "text/plain": [
       "      Name  Maths  Physics  Chemistry  Biology  Total\n",
       "0      Ram   80.0     81.0       91.5     82.5  335.0\n",
       "1     Diya   90.0     94.0       86.5     83.5  354.0\n",
       "2  Chandan   77.5     74.5       85.5     84.5  322.0\n",
       "3    James   87.5     83.0       90.0     85.0  345.5\n",
       "4    Alice   86.5     82.5       91.0     93.0  353.0"
      ]
     },
     "execution_count": 86,
     "metadata": {},
     "output_type": "execute_result"
    }
   ],
   "source": [
    "newdf3"
   ]
  },
  {
   "cell_type": "code",
   "execution_count": 87,
   "id": "c700470e",
   "metadata": {},
   "outputs": [
    {
     "name": "stderr",
     "output_type": "stream",
     "text": [
      "/tmp/ipykernel_960683/2922661572.py:1: FutureWarning: The default value of numeric_only in DataFrame.mean is deprecated. In a future version, it will default to False. In addition, specifying 'numeric_only=None' is deprecated. Select only valid columns or specify the value of numeric_only to silence this warning.\n",
      "  new_row= newdf3.mean(axis=0)\n"
     ]
    }
   ],
   "source": [
    "new_row= newdf3.mean(axis=0)"
   ]
  },
  {
   "cell_type": "code",
   "execution_count": 88,
   "id": "c38f482a",
   "metadata": {},
   "outputs": [
    {
     "name": "stderr",
     "output_type": "stream",
     "text": [
      "/tmp/ipykernel_960683/4046602396.py:1: FutureWarning: The frame.append method is deprecated and will be removed from pandas in a future version. Use pandas.concat instead.\n",
      "  newdf3= newdf3.append(new_row, ignore_index= True)\n"
     ]
    }
   ],
   "source": [
    "newdf3= newdf3.append(new_row, ignore_index= True)"
   ]
  },
  {
   "cell_type": "code",
   "execution_count": 89,
   "id": "d4e7e706",
   "metadata": {},
   "outputs": [
    {
     "data": {
      "text/html": [
       "<div>\n",
       "<style scoped>\n",
       "    .dataframe tbody tr th:only-of-type {\n",
       "        vertical-align: middle;\n",
       "    }\n",
       "\n",
       "    .dataframe tbody tr th {\n",
       "        vertical-align: top;\n",
       "    }\n",
       "\n",
       "    .dataframe thead th {\n",
       "        text-align: right;\n",
       "    }\n",
       "</style>\n",
       "<table border=\"1\" class=\"dataframe\">\n",
       "  <thead>\n",
       "    <tr style=\"text-align: right;\">\n",
       "      <th></th>\n",
       "      <th>Name</th>\n",
       "      <th>Maths</th>\n",
       "      <th>Physics</th>\n",
       "      <th>Chemistry</th>\n",
       "      <th>Biology</th>\n",
       "      <th>Total</th>\n",
       "    </tr>\n",
       "  </thead>\n",
       "  <tbody>\n",
       "    <tr>\n",
       "      <th>0</th>\n",
       "      <td>Ram</td>\n",
       "      <td>80.0</td>\n",
       "      <td>81.0</td>\n",
       "      <td>91.5</td>\n",
       "      <td>82.5</td>\n",
       "      <td>335.0</td>\n",
       "    </tr>\n",
       "    <tr>\n",
       "      <th>1</th>\n",
       "      <td>Diya</td>\n",
       "      <td>90.0</td>\n",
       "      <td>94.0</td>\n",
       "      <td>86.5</td>\n",
       "      <td>83.5</td>\n",
       "      <td>354.0</td>\n",
       "    </tr>\n",
       "    <tr>\n",
       "      <th>2</th>\n",
       "      <td>Chandan</td>\n",
       "      <td>77.5</td>\n",
       "      <td>74.5</td>\n",
       "      <td>85.5</td>\n",
       "      <td>84.5</td>\n",
       "      <td>322.0</td>\n",
       "    </tr>\n",
       "    <tr>\n",
       "      <th>3</th>\n",
       "      <td>James</td>\n",
       "      <td>87.5</td>\n",
       "      <td>83.0</td>\n",
       "      <td>90.0</td>\n",
       "      <td>85.0</td>\n",
       "      <td>345.5</td>\n",
       "    </tr>\n",
       "    <tr>\n",
       "      <th>4</th>\n",
       "      <td>Alice</td>\n",
       "      <td>86.5</td>\n",
       "      <td>82.5</td>\n",
       "      <td>91.0</td>\n",
       "      <td>93.0</td>\n",
       "      <td>353.0</td>\n",
       "    </tr>\n",
       "    <tr>\n",
       "      <th>5</th>\n",
       "      <td>NaN</td>\n",
       "      <td>84.3</td>\n",
       "      <td>83.0</td>\n",
       "      <td>88.9</td>\n",
       "      <td>85.7</td>\n",
       "      <td>341.9</td>\n",
       "    </tr>\n",
       "  </tbody>\n",
       "</table>\n",
       "</div>"
      ],
      "text/plain": [
       "      Name  Maths  Physics  Chemistry  Biology  Total\n",
       "0      Ram   80.0     81.0       91.5     82.5  335.0\n",
       "1     Diya   90.0     94.0       86.5     83.5  354.0\n",
       "2  Chandan   77.5     74.5       85.5     84.5  322.0\n",
       "3    James   87.5     83.0       90.0     85.0  345.5\n",
       "4    Alice   86.5     82.5       91.0     93.0  353.0\n",
       "5      NaN   84.3     83.0       88.9     85.7  341.9"
      ]
     },
     "execution_count": 89,
     "metadata": {},
     "output_type": "execute_result"
    }
   ],
   "source": [
    "newdf3"
   ]
  },
  {
   "cell_type": "code",
   "execution_count": null,
   "id": "1abdfee5",
   "metadata": {},
   "outputs": [],
   "source": []
  }
 ],
 "metadata": {
  "kernelspec": {
   "display_name": "Python 3 (ipykernel)",
   "language": "python",
   "name": "python3"
  },
  "language_info": {
   "codemirror_mode": {
    "name": "ipython",
    "version": 3
   },
   "file_extension": ".py",
   "mimetype": "text/x-python",
   "name": "python",
   "nbconvert_exporter": "python",
   "pygments_lexer": "ipython3",
   "version": "3.10.6"
  }
 },
 "nbformat": 4,
 "nbformat_minor": 5
}
